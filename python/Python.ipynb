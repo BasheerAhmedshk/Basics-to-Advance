{
 "cells": [
  {
   "cell_type": "markdown",
   "id": "f4b6f7cf",
   "metadata": {},
   "source": [
    "## Basics of Python Programming Language"
   ]
  },
  {
   "cell_type": "markdown",
   "id": "5e62ddba",
   "metadata": {},
   "source": [
    "### 1. Python Basics"
   ]
  },
  {
   "cell_type": "markdown",
   "id": "3d8dbdc6",
   "metadata": {},
   "source": [
    "1.1 Syntax and semantics of Python\n",
    "\n",
    "syntax refers to the structure and rules that define the language, while semantics refers to the meaning and behavior of the language."
   ]
  },
  {
   "cell_type": "code",
   "execution_count": 1,
   "id": "f416b5e3",
   "metadata": {},
   "outputs": [
    {
     "name": "stdout",
     "output_type": "stream",
     "text": [
      "hello my name is Shaik Basheer Ahmed and i'm  24 years old\n"
     ]
    }
   ],
   "source": [
    "# Basic syntax \n",
    "\n",
    "name = \"Shaik Basheer Ahmed\"\n",
    "age = 24\n",
    "\n",
    "print(f\"hello my name is {name} and i'm  {age} years old\")"
   ]
  },
  {
   "cell_type": "markdown",
   "id": "c1899a7d",
   "metadata": {},
   "source": [
    "1.2. Indentation\n",
    "\n",
    "indentation refers to the spacing or tabs used to indicate the level of nesting or indentation in a Python code block."
   ]
  },
  {
   "cell_type": "code",
   "execution_count": 2,
   "id": "2c2ab9ee",
   "metadata": {},
   "outputs": [
    {
     "name": "stdout",
     "output_type": "stream",
     "text": [
      "you are young\n"
     ]
    }
   ],
   "source": [
    "# using indentation\n",
    "age = 24\n",
    "if age  > 30:\n",
    "    print(\"You are old\")\n",
    "else:\n",
    "    print('you are young')"
   ]
  },
  {
   "cell_type": "code",
   "execution_count": 3,
   "id": "c0b9001d",
   "metadata": {},
   "outputs": [
    {
     "ename": "IndentationError",
     "evalue": "expected an indented block after 'if' statement on line 3 (869300005.py, line 4)",
     "output_type": "error",
     "traceback": [
      "\u001b[1;36m  Cell \u001b[1;32mIn[3], line 4\u001b[1;36m\u001b[0m\n\u001b[1;33m    print(\"You are old\")\u001b[0m\n\u001b[1;37m    ^\u001b[0m\n\u001b[1;31mIndentationError\u001b[0m\u001b[1;31m:\u001b[0m expected an indented block after 'if' statement on line 3\n"
     ]
    }
   ],
   "source": [
    "#without indentation\n",
    "age = 24\n",
    "if age > 30:\n",
    "print(\"You are old\")\n",
    "else:\n",
    "    print('you are young')"
   ]
  },
  {
   "cell_type": "code",
   "execution_count": 4,
   "id": "44ce1199",
   "metadata": {},
   "outputs": [
    {
     "name": "stdout",
     "output_type": "stream",
     "text": [
      "<class 'str'>\n",
      "<class 'int'>\n"
     ]
    }
   ],
   "source": [
    "# types inference\n",
    "name = \"Shaik Basheer Ahmed\"\n",
    "age = 24\n",
    "print(type(name))\n",
    "print(type(age))"
   ]
  },
  {
   "cell_type": "markdown",
   "id": "2703b5cd",
   "metadata": {},
   "source": [
    "1.3. print() function\n",
    "\n",
    "print() function is used to display text or values on the console. It accepts one or more arguments separated by commas and prints them to the standard output stream."
   ]
  },
  {
   "cell_type": "code",
   "execution_count": 5,
   "id": "a47d8430",
   "metadata": {},
   "outputs": [
    {
     "name": "stdout",
     "output_type": "stream",
     "text": [
      "Hello World!\n"
     ]
    }
   ],
   "source": [
    "# print() function example\n",
    "\n",
    "print('Hello World!')"
   ]
  },
  {
   "cell_type": "markdown",
   "id": "dbc6ed6e",
   "metadata": {},
   "source": [
    "**Conclusion:** </br>\n",
    "1. understanding the syntax and semantics of python is essential for writing clean and efficient code that is easy to read and understand. \n",
    "2. Indentation is used to indicate the level of nesting or indentation in a Python code block.\n",
    "3. Types inference is used to determine the type of a variable based on its value."
   ]
  },
  {
   "cell_type": "markdown",
   "id": "f6788488",
   "metadata": {},
   "source": [
    "### 2. Variables and Data Types in Python"
   ]
  },
  {
   "cell_type": "markdown",
   "id": "fca67078",
   "metadata": {},
   "source": [
    "1.1 Variables\n",
    "\n",
    "Variables are used to store values in a computer program. They are named entities that can hold different types of data, such as numbers, strings, lists, dictionaries, and more."
   ]
  },
  {
   "cell_type": "code",
   "execution_count": 6,
   "id": "44bb9517",
   "metadata": {},
   "outputs": [
    {
     "name": "stdout",
     "output_type": "stream",
     "text": [
      "30\n",
      "Shaik Basheer Ahmed\n",
      "[1, 2, 3, 4, 5]\n",
      "(1, 2, 3, 4, 5)\n",
      "{'name': 'Shaik Basheer Ahmed', 'age': 24}\n",
      "{1, 2, 3, 4, 5}\n"
     ]
    }
   ],
   "source": [
    "# creating a variable\n",
    "\n",
    "# creating a variable using numbers\n",
    "a = 10\n",
    "b = 20\n",
    "c = a + b\n",
    "print(c)\n",
    "\n",
    "# creating a variable using strings\n",
    "name = \"Shaik Basheer Ahmed\"\n",
    "print(name)\n",
    "\n",
    "# creating a variable using lists\n",
    "my_list = [1, 2, 3, 4, 5]\n",
    "print(my_list)\n",
    "\n",
    "# creating a variable using tuples\n",
    "my_tuple = (1, 2, 3, 4, 5)\n",
    "print(my_tuple)\n",
    "\n",
    "# creating a variable using dictionaries\n",
    "my_dict = {'name': 'Shaik Basheer Ahmed', 'age': 24}\n",
    "print(my_dict)\n",
    "\n",
    "# creating a variable using sets\n",
    "my_set = {1, 2, 3, 4, 5}\n",
    "print(my_set)"
   ]
  },
  {
   "cell_type": "code",
   "execution_count": 9,
   "id": "6ac4919e",
   "metadata": {},
   "outputs": [
    {
     "name": "stdout",
     "output_type": "stream",
     "text": [
      "10\n",
      "20\n"
     ]
    }
   ],
   "source": [
    "# declaring a variable\n",
    "x = 10\n",
    "print(x)\n",
    "\n",
    "# redeclaring a variable\n",
    "x = 20\n",
    "print(x)"
   ]
  },
  {
   "cell_type": "code",
   "execution_count": 8,
   "id": "da8b62d1",
   "metadata": {},
   "outputs": [],
   "source": [
    "# deleting a variable\n",
    "\n",
    "# del x\n",
    "#print(x)"
   ]
  },
  {
   "cell_type": "code",
   "execution_count": 10,
   "id": "ed3cc74f",
   "metadata": {},
   "outputs": [
    {
     "name": "stdout",
     "output_type": "stream",
     "text": [
      "<class 'str'>\n",
      "<class 'int'>\n"
     ]
    }
   ],
   "source": [
    "# getting of variable type\n",
    "\n",
    "name = \"Shaik Basheer Ahmed\"\n",
    "age = 24\n",
    "print(type(name))\n",
    "print(type(age))"
   ]
  },
  {
   "cell_type": "code",
   "execution_count": 11,
   "id": "243345c1",
   "metadata": {},
   "outputs": [
    {
     "name": "stdout",
     "output_type": "stream",
     "text": [
      "x = 10\n",
      "y = 2.5\n",
      "z = 20\n",
      "x = <class 'int'>\n",
      "y = <class 'float'>\n",
      "z = <class 'str'>\n",
      "x = 10\n",
      "y = 2.5\n",
      "z = 20\n",
      "x = <class 'int'>\n",
      "y = <class 'float'>\n",
      "z = <class 'str'>\n"
     ]
    }
   ],
   "source": [
    "# casting variables\n",
    "\n",
    "x = 10\n",
    "y = 2.5\n",
    "z = \"20\"\n",
    "\n",
    "print('x =', x)\n",
    "print('y =', y)\n",
    "print('z =', z)\n",
    "\n",
    "print('x =', type(x))\n",
    "print('y =', type(y))\n",
    "print('z =', type(z))\n",
    "\n",
    "x = int(x)\n",
    "y = float(y)\n",
    "z = str(z)\n",
    "\n",
    "print('x =', x)\n",
    "print('y =', y)\n",
    "print('z =', z)\n",
    "\n",
    "print('x =', type(x))\n",
    "print('y =', type(y))\n",
    "print('z =', type(z))"
   ]
  },
  {
   "cell_type": "code",
   "execution_count": 12,
   "id": "ddd6930c",
   "metadata": {},
   "outputs": [
    {
     "name": "stdout",
     "output_type": "stream",
     "text": [
      "age: 24\n",
      "Age: 30\n"
     ]
    }
   ],
   "source": [
    "# case sensitive variables\n",
    "\n",
    "age = \"24\"\n",
    "Age = \"30\"\n",
    "print('age:',age)\n",
    "print('Age:',Age)"
   ]
  },
  {
   "cell_type": "code",
   "execution_count": 13,
   "id": "07ac0afd",
   "metadata": {},
   "outputs": [
    {
     "name": "stdout",
     "output_type": "stream",
     "text": [
      "Shaik Basheer Ahmed 24\n",
      "hi Shaik Basheer Ahmed you are 24 years old now!\n"
     ]
    }
   ],
   "source": [
    "# multiple variables\n",
    "\n",
    "name, age = \"Shaik Basheer Ahmed\", 24\n",
    "print(name, age)\n",
    "\n",
    "print(f'hi {name} you are {age} years old now!')"
   ]
  },
  {
   "cell_type": "markdown",
   "id": "0b0654ad",
   "metadata": {},
   "source": [
    "2.2 Concatenation and f-strings\n",
    "\n",
    "Concatenation is the process of joining two or more strings into a single string. It is done using the + operator."
   ]
  },
  {
   "cell_type": "code",
   "execution_count": 14,
   "id": "92775974",
   "metadata": {},
   "outputs": [
    {
     "name": "stdout",
     "output_type": "stream",
     "text": [
      "hi Shaik Basheer Ahmed you are 24 years old now!\n"
     ]
    }
   ],
   "source": [
    "# concatenation of variables\n",
    "\n",
    "name = \"Shaik Basheer Ahmed\"\n",
    "age = 24\n",
    "print('hi ' + name + ' you are ' + str(age) + ' years old now!')"
   ]
  },
  {
   "cell_type": "markdown",
   "id": "8d61a125",
   "metadata": {},
   "source": [
    "2.3 Local & Global Variables\n",
    "\n",
    "Local variables are defined inside a function or a block of code and are only accessible within that block.\n",
    "\n",
    "Global variables are defined outside of any function or block of code and are accessible throughout the program."
   ]
  },
  {
   "cell_type": "code",
   "execution_count": 15,
   "id": "0801ec6d",
   "metadata": {},
   "outputs": [
    {
     "name": "stdout",
     "output_type": "stream",
     "text": [
      "10\n",
      "10\n"
     ]
    }
   ],
   "source": [
    "# local  variable\n",
    "\n",
    "def my_function():\n",
    "    x = 10\n",
    "    print(x)\n",
    "\n",
    "my_function()\n",
    "print(x)"
   ]
  },
  {
   "cell_type": "code",
   "execution_count": 16,
   "id": "2899029a",
   "metadata": {},
   "outputs": [
    {
     "name": "stdout",
     "output_type": "stream",
     "text": [
      "10\n",
      "10\n"
     ]
    }
   ],
   "source": [
    "# global variable\n",
    "\n",
    "x = 10\n",
    "\n",
    "def my_function():\n",
    "    print(x)\n",
    "\n",
    "my_function()\n",
    "print(x)"
   ]
  },
  {
   "cell_type": "markdown",
   "id": "d0086110",
   "metadata": {},
   "source": [
    "3. Data Types in Python\n",
    "\n",
    "data types refers to the different categories of data that can be stored in a computer program. Python has several built-in data types, such as numbers, strings, lists, tuples, dictionaries, and sets.\n",
    "\n",
    "Data types has two types:       \n",
    "1. Primitive data types\n",
    "2. Non-primitive data types\n",
    "\n",
    "- In primitive data types, the value of a variable is directly stored in the variable itself.  </br>\n",
    "Example: int, float, string, boolean, None, etc.\n",
    "\n",
    "- In non-primitive data types, the value of a variable is stored in a memory location. </br>\n",
    "Example: list, tuple, dictionary, set, etc."
   ]
  },
  {
   "cell_type": "code",
   "execution_count": 17,
   "id": "ca881610",
   "metadata": {},
   "outputs": [
    {
     "name": "stdout",
     "output_type": "stream",
     "text": [
      "20\n",
      "5.0\n",
      "Shaik Basheer Ahmed\n",
      "False\n"
     ]
    }
   ],
   "source": [
    "#sample code for Primitive data types\n",
    "\n",
    "integer = 10 # integer\n",
    "float = 2.5 # float\n",
    "string = 'Shaik Basheer' # string\n",
    "is_active = True # Boolean\n",
    "\n",
    "# Operations\n",
    "sum_integer = integer + 10\n",
    "product_float = float * 2\n",
    "concat_text = string + ' Ahmed'\n",
    "toggle = not is_active\n",
    "\n",
    "# print the results\n",
    "print(sum_integer) # Output: 20\n",
    "print(product_float) # Output: 5.0\n",
    "print(concat_text) # Output: Shaik Basheer Ahmed\n",
    "print(toggle) # Output: False"
   ]
  },
  {
   "cell_type": "code",
   "execution_count": null,
   "id": "b0231015",
   "metadata": {},
   "outputs": [
    {
     "name": "stdout",
     "output_type": "stream",
     "text": [
      "None\n",
      "None\n",
      "(1, 2, 3, 4, 5, 6)\n",
      "Shaik Basheer Ahmed\n",
      "None\n"
     ]
    }
   ],
   "source": [
    "# sample code on Non-primitive data types\n",
    "\n",
    "list = [1, 2, 3, 4, 5] # list\n",
    "tuple = (1, 2, 3, 4, 5) # tuple\n",
    "dictionary = {'name': 'Shaik Basheer Ahmed', 'age': 24} # dictionary\n",
    "set = {1, 2, 3, 4, 5} # set\n",
    "\n",
    "# Operations\n",
    "append_list = list.append(6)\n",
    "remove_list = list.remove(3)\n",
    "concat_tuple = tuple + (6,)\n",
    "access_dictionary = dictionary['name']\n",
    "add_set = set.add(6)\n",
    "\n",
    "# print the results\n",
    "print(append_list) # Output: None\n",
    "print(remove_list) # Output: None\n",
    "print(concat_tuple) # Output: (1, 2, 3, 4, 5, 6)\n",
    "print(access_dictionary) # Output: Shaik Basheer Ahmed\n",
    "print(add_set) # Output: None"
   ]
  },
  {
   "cell_type": "markdown",
   "id": "522eb119",
   "metadata": {},
   "source": [
    "4. Operations in Python\n",
    "\n",
    "Operations are the actions that can be performed on data types. Python supports a wide range of operations, including arithmetic operations, comparison operations, logical operations, bitwise operations, "
   ]
  },
  {
   "cell_type": "code",
   "execution_count": 18,
   "id": "81447aa9",
   "metadata": {},
   "outputs": [
    {
     "name": "stdout",
     "output_type": "stream",
     "text": [
      "15\n",
      "5\n",
      "50\n",
      "2.0\n",
      "0\n",
      "2\n",
      "100000\n",
      "15\n",
      "10\n",
      "50\n",
      "10.0\n",
      "0.0\n",
      "0.0\n",
      "0.0\n",
      "False\n",
      "True\n",
      "True\n",
      "False\n",
      "True\n",
      "False\n",
      "False\n",
      "True\n",
      "False\n",
      "True\n",
      "True\n",
      "True\n",
      "False\n",
      "0\n",
      "15\n",
      "15\n",
      "-11\n",
      "40\n",
      "2\n"
     ]
    }
   ],
   "source": [
    "# Arithmetic Operators\n",
    "\n",
    "a = 10\n",
    "b = 5\n",
    "\n",
    "print(a + b) # Output: 15\n",
    "print(a - b) # Output: 5\n",
    "print(a * b) # Output: 50\n",
    "print(a / b) # Output: 2.0\n",
    "print(a % b) # Output: 0\n",
    "print(a // b) # Output: 2\n",
    "print(a ** b) # Output: 10000   \n",
    "\n",
    "# Assignment Operators\n",
    "\n",
    "a = 10\n",
    "b = 5\n",
    "\n",
    "a += b\n",
    "print(a) # Output: 15\n",
    "\n",
    "a -= b\n",
    "print(a) # Output: 10\n",
    "\n",
    "a *= b\n",
    "print(a) # Output: 50\n",
    "\n",
    "a /= b\n",
    "print(a) # Output: 2.0\n",
    "\n",
    "a %= b\n",
    "print(a) # Output: 0\n",
    "\n",
    "a //= b\n",
    "print(a) # Output: 2\n",
    "\n",
    "a **= b\n",
    "print(a) # Output: 10000\n",
    "\n",
    "# Comparison Operators\n",
    "\n",
    "a = 10\n",
    "b = 5\n",
    "\n",
    "print(a == b) # Output: False\n",
    "print(a != b) # Output: True\n",
    "print(a > b) # Output: True\n",
    "print(a < b) # Output: False\n",
    "print(a >= b) # Output: True\n",
    "print(a <= b) # Output: False\n",
    "\n",
    "# Logical Operators\n",
    "\n",
    "a = True\n",
    "b = False\n",
    "\n",
    "print(a and b) # Output: False\n",
    "print(a or b) # Output: True\n",
    "print(not a) # Output: False\n",
    "\n",
    "# Membership Operators\n",
    "\n",
    "a = [1, 2, 3, 4, 5]\n",
    "\n",
    "print(5 in a) # Output: True\n",
    "print(6 not in a) # Output: True\n",
    "\n",
    "# Identity Operators\n",
    "\n",
    "a = 10\n",
    "b = 10\n",
    "\n",
    "print(a is b) # Output: True\n",
    "print(a is not b) # Output: False\n",
    "\n",
    "# Bitwise Operators\n",
    "\n",
    "a = 10\n",
    "b = 5\n",
    "\n",
    "print(a & b) # Output: 0\n",
    "print(a | b) # Output: 15\n",
    "print(a ^ b) # Output: 15\n",
    "print(~a) # Output: -11\n",
    "print(a << 2) # Output: 40\n",
    "print(a >> 2) # Output: 2\n",
    "\n"
   ]
  },
  {
   "cell_type": "markdown",
   "id": "c4524ba1",
   "metadata": {},
   "source": [
    "5. Escape  Character Sequences\n",
    "\n",
    "Escape characters or sequences are illegal characters for Python and never get printed as part of the output. When backslash is used in Python programming, it allows the program to escape the next characters.\n",
    "\n",
    "Types of escape sequence:\n",
    "\n",
    "**code | Description** </br>\n",
    "\\'   - Single quote </br>\n",
    "\\\\   - Backslash </br>\n",
    "\\n   - Newline </br>\n",
    "\\r   - Carriage return </br>\n",
    "\\t   - Tab </br>\n",
    "\\b   - Backspace </br>\n",
    "\\f   - Form feed </br>\n",
    "\\v   - Vertical tab </br>\n"
   ]
  },
  {
   "cell_type": "code",
   "execution_count": null,
   "id": "8a07fc9c",
   "metadata": {},
   "outputs": [
    {
     "name": "stdout",
     "output_type": "stream",
     "text": [
      "It's alright.\n"
     ]
    }
   ],
   "source": [
    "# ' single quote\n",
    "txt = 'It\\'s alright.'\n",
    "print(txt)"
   ]
  },
  {
   "cell_type": "code",
   "execution_count": 21,
   "id": "e263d8d8",
   "metadata": {},
   "outputs": [
    {
     "name": "stdout",
     "output_type": "stream",
     "text": [
      "this will insert one \\ (blackslash).\n"
     ]
    }
   ],
   "source": [
    "#  \\ backslash\n",
    "txt = 'this will insert one \\\\ (blackslash).'\n",
    "print(txt)"
   ]
  },
  {
   "cell_type": "code",
   "execution_count": null,
   "id": "e2569468",
   "metadata": {},
   "outputs": [
    {
     "name": "stdout",
     "output_type": "stream",
     "text": [
      "Hello\n",
      "world!\n"
     ]
    }
   ],
   "source": [
    "txt = 'Hello\\nworld!' # new line\n",
    "print(txt)"
   ]
  },
  {
   "cell_type": "code",
   "execution_count": 23,
   "id": "2e944b65",
   "metadata": {},
   "outputs": [
    {
     "name": "stdout",
     "output_type": "stream",
     "text": [
      "World!\n"
     ]
    }
   ],
   "source": [
    "txt = 'Hello\\rWorld!' # carriage return\n",
    "print(txt)"
   ]
  },
  {
   "cell_type": "code",
   "execution_count": 24,
   "id": "a4c3ae6c",
   "metadata": {},
   "outputs": [
    {
     "name": "stdout",
     "output_type": "stream",
     "text": [
      "Hello\tWorld!\n"
     ]
    }
   ],
   "source": [
    "txt = 'Hello\\tWorld!' # horizontal tab\n",
    "print(txt)"
   ]
  },
  {
   "cell_type": "code",
   "execution_count": 26,
   "id": "1ceb9020",
   "metadata": {},
   "outputs": [
    {
     "name": "stdout",
     "output_type": "stream",
     "text": [
      "HellWorld!\n"
     ]
    }
   ],
   "source": [
    "txt = 'Hello\\bWorld!' # backspace erases one character\n",
    "print(txt)"
   ]
  },
  {
   "cell_type": "markdown",
   "id": "023b8680",
   "metadata": {},
   "source": [
    "6. Type of conversions in Python\n",
    "\n",
    "It is a process of converting one data type to another data type.\n",
    "\n",
    "There are two types of type conversion:\n",
    "1. Implicit Type Conversion\n",
    "2. Explicit Type Conversion\n",
    "\n",
    "Implicit Type Conversion: </br>\n",
    "Python automatically converts one data type to another data type. For example, if you assign a string to a variable, Python will automatically convert it to a string.\n",
    "\n",
    "Explicit Type Conversion: </br> \n",
    "Python allows you to explicitly convert one data type to another data type. For example, you can use the int() function to convert a string to an integer."
   ]
  },
  {
   "cell_type": "code",
   "execution_count": 3,
   "id": "948939c2",
   "metadata": {},
   "outputs": [
    {
     "name": "stdout",
     "output_type": "stream",
     "text": [
      "135.3\n",
      "Data Type: <class 'float'>\n"
     ]
    }
   ],
   "source": [
    "# Implicit Conversion\n",
    "# Converting int to float\n",
    "\n",
    "int_num = 123 \n",
    "float_num = 12.3\n",
    "\n",
    "# Converting float to int   \n",
    "result = int_num + float_num\n",
    "\n",
    "# Print the result\n",
    "print(result)\n",
    "print('Data Type:', type(result))"
   ]
  },
  {
   "cell_type": "code",
   "execution_count": 8,
   "id": "81d636db",
   "metadata": {},
   "outputs": [
    {
     "name": "stdout",
     "output_type": "stream",
     "text": [
      "Data Type of num_str before type casting: <class 'int'>\n",
      "Data Type of num_str after type casting: <class 'int'>\n",
      "46\n",
      "Data Type: <class 'int'>\n"
     ]
    }
   ],
   "source": [
    "# Explicit Conversion\n",
    "\n",
    "num_str = 12\n",
    "num_int = 23\n",
    "\n",
    "print('Data Type of num_str before type casting:', type(num_str))\n",
    "\n",
    "# explicit type casting\n",
    "num_str = int(num_int)\n",
    "\n",
    "print('Data Type of num_str after type casting:', type(num_str))\n",
    "\n",
    "result = num_int + num_str\n",
    "\n",
    "print(result)\n",
    "print('Data Type:', type(result))"
   ]
  },
  {
   "cell_type": "markdown",
   "id": "99b28e59",
   "metadata": {},
   "source": [
    "7. Flow Control, Loops & Control Statements in Python\n",
    "\n",
    "Flow control refers to the logic of a program that controls the order in which statements are executed.\n",
    "\n",
    "There are two types of flow control:\n",
    "1. Conditional Statements\n",
    "2. Loops\n",
    "\n",
    "Conditional Statements: </br>\n",
    "Conditional statements are used to control the flow of a program. They allow you to execute different blocks of code based on a certain condition.\n",
    "\n",
    "Types of conditional statements:\n",
    "1. if\n",
    "2. elif\n",
    "3. else\n",
    "\n",
    "- If use for executing a block of code if a certain condition is true.\n",
    "- elif use for executing a block of code if the previous conditions are false and the current condition is true.\n",
    "- else use for executing a block of code if all previous conditions are false. \n",
    "\n",
    "Loops: </br>\n",
    "Loops are used to repeat a block of code multiple times. They allow you to execute the same block of code multiple times.\n",
    "\n",
    "Types of loops:\n",
    "1. while\n",
    "2. for\n",
    "\n",
    "- While loop use for executing a block of code as long as a certain condition is true.\n",
    "- For loop use for executing a block of code for each item in a sequence.\n",
    "\n",
    "break & continue statement: </br>\n",
    "break statement use for breaking out of a loop.\n",
    "continue statement use for skipping the current iteration of a loop and moving on to the next iteration.\n",
    "\n",
    "pass statement: </br>\n",
    "pass statement use for doing nothing.\n"
   ]
  },
  {
   "cell_type": "code",
   "execution_count": 15,
   "id": "4710202b",
   "metadata": {},
   "outputs": [
    {
     "name": "stdout",
     "output_type": "stream",
     "text": [
      "You are a adult:\n"
     ]
    }
   ],
   "source": [
    "# if condition:\n",
    "\n",
    "age = 24\n",
    "\n",
    "if age > 18:\n",
    "    print('You are a adult:')\n",
    "else:\n",
    "    print('You are a minor')"
   ]
  },
  {
   "cell_type": "code",
   "execution_count": null,
   "id": "5e181ac0",
   "metadata": {},
   "outputs": [
    {
     "name": "stdout",
     "output_type": "stream",
     "text": [
      "You are a child\n"
     ]
    }
   ],
   "source": [
    "# elif condition:\n",
    "\n",
    "age = int(input('Enter your age:'))\n",
    "\n",
    "if age > 18:\n",
    "    print('You are a adult:')\n",
    "elif age == 18:\n",
    "    print('You are a minor')\n",
    "else:\n",
    "    print('You are a child')    "
   ]
  },
  {
   "cell_type": "code",
   "execution_count": 26,
   "id": "ae686eb9",
   "metadata": {},
   "outputs": [
    {
     "name": "stdout",
     "output_type": "stream",
     "text": [
      "1\n",
      "2\n",
      "3\n",
      "4\n",
      "5\n",
      "6\n",
      "7\n",
      "8\n",
      "9\n",
      "10\n"
     ]
    }
   ],
   "source": [
    "# loop\n",
    "for i in range(1,11):\n",
    "    print(i)"
   ]
  },
  {
   "cell_type": "code",
   "execution_count": 35,
   "id": "535dced0",
   "metadata": {},
   "outputs": [
    {
     "name": "stdout",
     "output_type": "stream",
     "text": [
      "0\n",
      "1\n",
      "2\n",
      "3\n",
      "4\n",
      "5\n",
      "6\n",
      "7\n",
      "8\n",
      "9\n"
     ]
    }
   ],
   "source": [
    "# While loop\n",
    "\n",
    "count = 0\n",
    "\n",
    "while count < 10: # here what we did is we are checking if the count is less than 10\n",
    "    print(count) # here we are printing the count\n",
    "    count += 1  # here we are increasing the count by 1\n"
   ]
  },
  {
   "cell_type": "code",
   "execution_count": 37,
   "id": "ee77a132",
   "metadata": {},
   "outputs": [
    {
     "name": "stdout",
     "output_type": "stream",
     "text": [
      "1 is odd\n",
      "2 is even, skipping\n",
      "3 is odd\n",
      "4 is even, skipping\n",
      "5 is odd\n",
      "6 is even, skipping\n",
      "Reach 7, exciting from the loop\n"
     ]
    }
   ],
   "source": [
    "# break, continue & pass statement\n",
    "\n",
    "for i in range(1, 11):\n",
    "    if  i ==7: # means if i is equal to 7\n",
    "        print(f'Reach {i}, exciting from the loop')\n",
    "        break # exit the loop when i is 7\n",
    "    if i % 2 == 0:\n",
    "        print(f'{i} is even, skipping')\n",
    "        continue # skip even numbers\n",
    "    print(f'{i} is odd')\n",
    "    pass # placeholder, no action"
   ]
  },
  {
   "cell_type": "markdown",
   "id": "4386a328",
   "metadata": {},
   "source": [
    "8. Slicing in Python\n",
    "\n",
    "Slicing is a technique in Python that allows you to extract a subset of a sequence, such as a string, list, tuple, or range.\n",
    "\n",
    "syntax: sequence[start:end:step]\n",
    "\n",
    "- start: The index of the first element to include in the slice.\n",
    "- end: The index of the element after the last element to include in the slice.\n",
    "- step: The step size to use when iterating over the sequence.\n",
    "\n",
    "There are two types of slicing:\n",
    "1. Positive Slicing\n",
    "2. Negative Slicing\n",
    "\n",
    "Positive Slicing: </br>\n",
    "Positive slicing means that you start from the beginning of the sequence and go to the end.\n",
    "\n",
    "Negative Slicing: </br>\n",
    "Negative slicing means that you start from the end of the sequence and go to the beginning."
   ]
  },
  {
   "cell_type": "code",
   "execution_count": 38,
   "id": "d46be95b",
   "metadata": {},
   "outputs": [
    {
     "name": "stdout",
     "output_type": "stream",
     "text": [
      "[1, 2, 3, 4, 5]\n",
      "[1, 2, 3, 4, 5]\n"
     ]
    }
   ],
   "source": [
    "# Positive slicing\n",
    "\n",
    "my_list = [1, 2, 3, 4, 5, 6, 7, 8, 9, 10]\n",
    "\n",
    "print(my_list[0:5]) # Output: [1, 2, 3, 4, 5]\n",
    "print(my_list[:5]) # Output: [1, 2, 3, 4, 5]"
   ]
  },
  {
   "cell_type": "code",
   "execution_count": 39,
   "id": "10bfde74",
   "metadata": {},
   "outputs": [
    {
     "name": "stdout",
     "output_type": "stream",
     "text": [
      "[6, 7, 8, 9, 10]\n",
      "[1, 2, 3, 4, 5]\n"
     ]
    }
   ],
   "source": [
    "# Negative slicing\n",
    "\n",
    "my_list = [1, 2, 3, 4, 5, 6, 7, 8, 9, 10]\n",
    "\n",
    "print(my_list[-5:]) # Output: [6, 7, 8, 9, 10]\n",
    "print(my_list[:-5]) # Output: [1, 2, 3, 4, 5]"
   ]
  },
  {
   "cell_type": "markdown",
   "id": "ec7621d5",
   "metadata": {},
   "source": [
    "additionally, you can also use the step parameter to specify the step size."
   ]
  },
  {
   "cell_type": "code",
   "execution_count": 40,
   "id": "769a6b79",
   "metadata": {},
   "outputs": [
    {
     "name": "stdout",
     "output_type": "stream",
     "text": [
      "[1, 3, 5, 7, 9]\n",
      "[2, 4, 6, 8, 10]\n",
      "[10, 9, 8, 7, 6, 5, 4, 3, 2, 1]\n"
     ]
    }
   ],
   "source": [
    "# Extended Slicing\n",
    "\n",
    "my_list = [1, 2, 3, 4, 5, 6, 7, 8, 9, 10]\n",
    "\n",
    "print(my_list[::2]) # Output: [1, 3, 5, 7, 9]\n",
    "print(my_list[1::2]) # Output: [2, 4, 6, 8, 10]\n",
    "print(my_list[::-1]) # Output: [10, 9, 8, 7, 6, 5, 4, 3, 2, 1]"
   ]
  },
  {
   "cell_type": "code",
   "execution_count": 41,
   "id": "b7ec0679",
   "metadata": {},
   "outputs": [
    {
     "name": "stdout",
     "output_type": "stream",
     "text": [
      "[1, 2, 3, 4, 5, 6, 7, 8, 9, 10]\n",
      "[1, 2, 3, 4, 5, 6, 7, 8, 9, 10]\n",
      "[1, 2, 3, 4, 5, 6, 7, 8, 9, 10]\n",
      "[1, 3, 5, 7, 9]\n",
      "[10, 9, 8, 7, 6, 5, 4, 3, 2, 1]\n"
     ]
    }
   ],
   "source": [
    "# omitting indices\n",
    "\n",
    "my_list = [1, 2, 3, 4, 5, 6, 7, 8, 9, 10]\n",
    "\n",
    "print(my_list[:])\n",
    "print(my_list[::])\n",
    "print(my_list[:10])\n",
    "print(my_list[::2])\n",
    "print(my_list[::-1])"
   ]
  },
  {
   "cell_type": "code",
   "execution_count": 42,
   "id": "1de45a82",
   "metadata": {},
   "outputs": [
    {
     "name": "stdout",
     "output_type": "stream",
     "text": [
      "[10, 9, 8, 7, 6, 5, 4, 3, 2, 1]\n"
     ]
    }
   ],
   "source": [
    "# Reverse slicing\n",
    "\n",
    "my_list = [1, 2, 3, 4, 5, 6, 7, 8, 9, 10]\n",
    "\n",
    "print(my_list[::-1])"
   ]
  },
  {
   "cell_type": "markdown",
   "id": "c146159f",
   "metadata": {},
   "source": [
    "doing with list, string, tuple"
   ]
  },
  {
   "cell_type": "code",
   "execution_count": 43,
   "id": "fb261f37",
   "metadata": {},
   "outputs": [
    {
     "name": "stdout",
     "output_type": "stream",
     "text": [
      "[1, 2, 3]\n",
      "[0, 1, 2]\n",
      "[2, 3, 4, 5]\n",
      "[0, 2, 4]\n",
      "[3, 4, 5]\n",
      "[5, 4, 3, 2, 1, 0]\n",
      "Hello\n",
      "World!\n",
      "!dlroW ,olleH\n",
      "(20, 30)\n",
      "(10, 30, 50)\n"
     ]
    }
   ],
   "source": [
    "# List\n",
    "lst = [0, 1, 2, 3, 4, 5]\n",
    "print(lst[1:4])      # [1, 2, 3]\n",
    "print(lst[:3])       # [0, 1, 2]\n",
    "print(lst[2:])       # [2, 3, 4, 5]\n",
    "print(lst[::2])      # [0, 2, 4]\n",
    "print(lst[-3:])      # [3, 4, 5]\n",
    "print(lst[::-1])     # [5, 4, 3, 2, 1, 0]\n",
    "\n",
    "# String\n",
    "s = \"Hello, World!\"\n",
    "print(s[0:5])        # Hello\n",
    "print(s[7:])         # World!\n",
    "print(s[::-1])       # !dlroW ,olleH\n",
    "\n",
    "# Tuple\n",
    "t = (10, 20, 30, 40, 50)\n",
    "print(t[1:3])        # (20, 30)\n",
    "print(t[::2])        # (10, 30, 50)"
   ]
  },
  {
   "cell_type": "markdown",
   "id": "6371cce4",
   "metadata": {},
   "source": [
    "9. Data Structures in Python\n",
    "\n",
    "Data structures are used to store and organize data in a way that makes it easy to access and manipulate.\n",
    "\n",
    "1. List\n",
    "2. Tuple\n",
    "3. Dictionary\n",
    "4. Set\n",
    "\n",
    "List: </br>\n",
    "A list is a data structure that stores a collection of items in a linear order. they are mutable, which means you can change the elements of a list after it has been created. the symbol is [] square brackets .\n",
    "\n",
    "List methods: </br>\n",
    "- append(): Adds an element to the end of the list.\n",
    "- insert(): Inserts an element at a specified index in the list.\n",
    "- remove(): Removes an element from the list.\n",
    "- pop(): Removes and returns the element at a specified index in the list.\n",
    "- clear(): Removes all elements from the list.\n",
    "- index(): Returns the index of the first occurrence of an element in the list.\n",
    "- count(): Returns the number of times an element appears in the list.\n",
    "- sort(): Sorts the elements of the list in place.\n",
    "- reverse(): Reverses the order of the elements in the list.\n",
    "\n",
    "Tuple: </br>\n",
    "A tuple is a data structure that stores a collection of items in a linear order. they are immutable, which means you cannot change the elements of a tuple after it has been created. the symbol is () parentheses.\n",
    "\n",
    "Tuple methods: </br>\n",
    "- count(): Returns the number of times an element appears in the tuple.\n",
    "- index(): Returns the index of the first occurrence of an element in the tuple.\n",
    "\n",
    "Dictionary: </br>\n",
    "A dictionary is a data structure that stores a collection of key-value pairs. they are mutable, which means you can change the elements of a dictionary after it has been created. the symbol is {} curly brackets.\n",
    "\n",
    "Dictionary methods: </br>\n",
    "- get(key[, default]): Return value for key, else default.\n",
    "- pop(key[, default]): Remove and return value for key.\n",
    "- popitem(): Remove and return last key-value pair.\n",
    "- clear(): Remove all items.\n",
    "- update(dict/iterable): Update with key-value pairs.\n",
    "- keys(): Return view of keys.\n",
    "- values(): Return view of values.\n",
    "- items(): Return view of key-value pairs.\n",
    "- setdefault(key[, default]): Return value for key, set default if absent.\n",
    "- copy(): Return shallow copy.\n",
    "\n",
    "Set: </br>\n",
    "A set is a data structure that stores a collection of unique items. they are mutable, which means you can change the elements of a set after it has been created. the symbol is {}  curly brackets.\n",
    "\n",
    "Set methods: </br>\n",
    "- add(element): Add an element to the set.\n",
    "- remove(element): Remove an element from the set.\n",
    "- discard(element): Remove an element from the set if present.\n",
    "- pop(): Remove and return an arbitrary element from the set.\n",
    "- clear(): Remove all elements from the set.\n",
    "- union(other_set): Return a new set with all elements from both sets.\n",
    "- intersection(other_set): Return a new set with elements common to both sets.\n",
    "- difference(other_set): Return a new set with elements in the first set but not in the second set.\n",
    "- symmetric_difference(other_set): Return a new set with elements in either set but not both."
   ]
  },
  {
   "cell_type": "markdown",
   "id": "e16358bf",
   "metadata": {},
   "source": [
    "### List"
   ]
  },
  {
   "cell_type": "code",
   "execution_count": 44,
   "id": "a9065061",
   "metadata": {},
   "outputs": [
    {
     "name": "stdout",
     "output_type": "stream",
     "text": [
      "[3, 1, 2, 4, 5, 6, 7, 8, 9, 10, 11]\n",
      "[0, 3, 1, 2, 4, 5, 6, 7, 8, 9, 10, 11]\n",
      "[0, 1, 2, 4, 5, 6, 7, 8, 9, 10, 11]\n",
      "[1, 2, 4, 5, 6, 7, 8, 9, 10, 11]\n",
      "[]\n",
      "1\n",
      "[1, 2, 3, 4, 5, 6, 7, 8, 9, 10]\n",
      "[10, 9, 8, 7, 6, 5, 4, 2, 1, 3]\n"
     ]
    }
   ],
   "source": [
    "# Initialize an list\n",
    "list = [3, 1, 2, 4, 5, 6, 7, 8, 9, 10]\n",
    "\n",
    "#append() method, adds an element to the end of the list\n",
    "list.append(11)\n",
    "print(list) # Output: [3, 1, 2, 4, 5, 6, 7, 8, 9, 10, 11]\n",
    "\n",
    "#insert() method, inserts an element at a specific index\n",
    "list.insert(0, 0)\n",
    "print(list) # Output: [0, 3, 1, 2, 4, 5, 6, 7, 8, 9, 10, 11]\n",
    "\n",
    "#remove() method, removes an element from the list\n",
    "list.remove(3)\n",
    "print(list) # Output: [0, 1, 2, 4, 5, 6, 7, 8, 9, 10, 11]\n",
    "\n",
    "#pop() method, removes and returns the element at a specific index\n",
    "list.pop(0)\n",
    "print(list) # Output: [1, 2, 4, 5, 6, 7, 8, 9, 10, 11]\n",
    "\n",
    "#clear() method, removes all elements from the list\n",
    "list.clear()\n",
    "print(list) # Output: []\n",
    "\n",
    "#count() method, returns the number of occurrences of an element in the list\n",
    "list = [1, 2, 3, 4, 5, 6, 7, 8, 9, 10]\n",
    "print(list.count(3)) # Output: 1\n",
    "\n",
    "#sort() method, sorts the elements of the list in ascending order\n",
    "list = [3, 1, 2, 4, 5, 6, 7, 8, 9, 10]\n",
    "list.sort()\n",
    "print(list) # Output: [1, 2, 3, 4, 5, 6, 7, 8, 9, 10]\n",
    "\n",
    "#reverse() method, reverses the order of the elements in the list\n",
    "list = [3, 1, 2, 4, 5, 6, 7, 8, 9, 10]\n",
    "list.reverse()\n",
    "print(list) # Output: [10, 9, 8, 7, 6, 5, 4, 3, 2, 1]"
   ]
  },
  {
   "cell_type": "markdown",
   "id": "4ed29d25",
   "metadata": {},
   "source": [
    "### Tuple"
   ]
  },
  {
   "cell_type": "code",
   "execution_count": null,
   "id": "591f5844",
   "metadata": {},
   "outputs": [
    {
     "name": "stdout",
     "output_type": "stream",
     "text": [
      "3\n",
      "0\n"
     ]
    }
   ],
   "source": [
    "# Initialize a Tuple\n",
    "tuple = (3, 1, 2, 4, 3, 5, 6, 7, 8,3, 9, 10)\n",
    "\n",
    "#count() method, returns the number of occurrences of an element in the tuple\n",
    "print(tuple.count(3)) # Output: 3\n",
    "\n",
    "#index() method, returns the index of the first occurrence of an element in the tuple\n",
    "print(tuple.index(3)) # Output: 0"
   ]
  },
  {
   "cell_type": "markdown",
   "id": "4cb2a8a7",
   "metadata": {},
   "source": [
    "### Dictionary"
   ]
  },
  {
   "cell_type": "code",
   "execution_count": 50,
   "id": "4f7c2dbd",
   "metadata": {},
   "outputs": [
    {
     "name": "stdout",
     "output_type": "stream",
     "text": [
      "Shaik Basheer Ahmed\n",
      "24\n",
      "('name', 'Shaik Basheer Ahmed')\n",
      "{}\n",
      "{'name': 'Shaik Basheer Ahmed', 'age': 24, 'country': 'India'}\n",
      "dict_keys(['name', 'age', 'country'])\n",
      "dict_values(['Shaik Basheer Ahmed', 24, 'India'])\n",
      "dict_items([('name', 'Shaik Basheer Ahmed'), ('age', 24), ('country', 'India')])\n",
      "{'name': 'Shaik Basheer Ahmed', 'age': 24}\n"
     ]
    }
   ],
   "source": [
    "# Initialize a Dictionary\n",
    "dict = {'name': 'Shaik Basheer Ahmed', 'age': 24}\n",
    "\n",
    "# get() method, returns the value of a key in the dictionary\n",
    "print(dict.get('name')) # Output: Shaik Basheer Ahmed\n",
    "\n",
    "# pop() method, removes and returns the value of a key in the dictionary\n",
    "print(dict.pop('age')) # Output: 24\n",
    "\n",
    "# popitem() method, removes and returns the last inserted key-value pair in the dictionary\n",
    "print(dict.popitem()) # Output: ('age', 24)\n",
    "\n",
    "# clear() method, removes all key-value pairs from the dictionary\n",
    "dict.clear()\n",
    "print(dict) # Output: {}\n",
    "\n",
    "# Update a Dictionary\n",
    "dict = {'name': 'Shaik Basheer Ahmed', 'age': 24}\n",
    "dict.update({'country': 'India'})\n",
    "print(dict) # Output: {'name': 'Shaik Basheer Ahmed', 'age': 24, 'country': 'India'}\n",
    "\n",
    "# Keys() method, returns a list of all the keys in the dictionary\n",
    "print(dict.keys()) # Output: dict_keys(['name', 'age', 'country'])  \n",
    "\n",
    "# Values() method, returns a list of all the values in the dictionary\n",
    "print(dict.values()) # Output: dict_values(['Shaik Basheer Ahmed', 24, 'India'])    \n",
    "\n",
    "# Items() method, returns a list of all the key-value pairs in the dictionary\n",
    "print(dict.items()) # Output: dict_items([('name', 'Shaik Basheer Ahmed'), ('age', 24), ('country', 'India')])\n",
    "\n",
    "# Copy() method, returns a copy of the dictionary\n",
    "dict = {'name': 'Shaik Basheer Ahmed', 'age': 24}\n",
    "dict_copy = dict.copy()\n",
    "print(dict_copy) # Output: {'name': 'Shaik Basheer Ahmed', 'age': 24}"
   ]
  },
  {
   "cell_type": "markdown",
   "id": "459a5490",
   "metadata": {},
   "source": [
    "### Set"
   ]
  },
  {
   "cell_type": "code",
   "execution_count": 51,
   "id": "be3c2d13",
   "metadata": {},
   "outputs": [
    {
     "name": "stdout",
     "output_type": "stream",
     "text": [
      "{1, 2, 3, 4, 5, 6, 7, 8, 9, 10, 11}\n",
      "{1, 2, 4, 5, 6, 7, 8, 9, 10, 11}\n",
      "{1, 4, 5, 6, 7, 8, 9, 10, 11}\n",
      "{4, 5, 6, 7, 8, 9, 10, 11}\n",
      "{1, 2, 3, 4, 5, 6}\n",
      "{3}\n",
      "{1, 2}\n",
      "{1, 2, 4, 5}\n",
      "True\n"
     ]
    }
   ],
   "source": [
    "# Initialize a Set\n",
    "set = {3, 1, 2, 4, 5, 6, 7, 8, 9, 10}\n",
    "\n",
    "# add() method, adds an element to the set\n",
    "set.add(11)\n",
    "print(set) # Output: {1, 2, 3, 4, 5, 6, 7, 8, 9, 10, 11}    \n",
    "\n",
    "# remove() method, removes an element from the set\n",
    "set.remove(3)\n",
    "print(set) # Output: {1, 2, 4, 5, 6, 7, 8, 9, 10, 11}\n",
    "\n",
    "# discard() method, removes an element from the set if it is present\n",
    "set.discard(2)\n",
    "print(set) # Output: {1, 3, 4, 5, 6, 7, 8, 9, 10, 11}\n",
    "\n",
    "# pop() method, removes and returns an arbitrary element from the set\n",
    "set.pop()\n",
    "print(set) # Output: {2, 3, 4, 5, 6, 7, 8, 9, 10, 11}\n",
    "\n",
    "# clear() method, removes all elements from the set\n",
    "set.clear()\n",
    "\n",
    "# recreate the set\n",
    "set = {3, 1, 2, 4, 5, 6, 7, 8, 9, 10}\n",
    "\n",
    "# union() method, returns a new set with all elements from both sets\n",
    "set1 = {1, 2, 3}\n",
    "set2 = {4, 5, 6}\n",
    "set3 = set1.union(set2)\n",
    "print(set3) # Output: {1, 2, 3, 4, 5, 6}\n",
    "\n",
    "# intersection() method, returns a new set with elements common to both sets\n",
    "set1 = {1, 2, 3}\n",
    "set2 = {3, 4, 5}\n",
    "set3 = set1.intersection(set2)\n",
    "print(set3) # Output: {3}       \n",
    "\n",
    "# difference() method, returns a new set with elements in the first set but not in the second set\n",
    "set1 = {1, 2, 3}\n",
    "set2 = {3, 4, 5}\n",
    "set3 = set1.difference(set2)\n",
    "print(set3) # Output: {1, 2}\n",
    "\n",
    "# symmetric_difference() method, returns a new set with elements in either the first or second set, but not in both\n",
    "set1 = {1, 2, 3}\n",
    "set2 = {3, 4, 5}\n",
    "set3 = set1.symmetric_difference(set2)\n",
    "print(set3) # Output: {1, 2, 4, 5}\n",
    "\n",
    "# issubset() method, returns True if the first set is a subset of the second set\n",
    "set1 = {1, 2, 3}\n",
    "set2 = {1, 2, 3, 4, 5}\n",
    "print(set1.issubset(set2)) # Output: True"
   ]
  },
  {
   "cell_type": "markdown",
   "id": "fec9b25d",
   "metadata": {},
   "source": [
    "10. Functions in Python\n",
    "\n",
    "Functions are blocks of code that perform a specific task. They can be used to break down complex tasks into smaller, more manageable parts.\n",
    "\n",
    "Types of Functions: </br>\n",
    "- Built-in Functions: </br>\n",
    "- User-defined Functions: </br>\n",
    "- Lambda Functions: </br>\n",
    "- Anonymous Functions: </br>\n",
    "- Recursive Functions: </br>\n",
    "\n",
    "1. Built-in Functions: print(), len(), max(), min(), etc.</br>\n",
    "It is a predefined function that is available in Python.\n",
    "example: print(), len(), max(), min(), etc.\n",
    "\n",
    "2. User-defined Functions: def </br>\n",
    "It is a function that is defined by the user.\n",
    "example: def add(a, b): return a + b\n",
    "\n",
    "3. Lambda Functions: map(), filter(), reduce() </br>\n",
    "It is a function that is defined using a lambda expression.\n",
    "example: lambda x: x * 2\n",
    "\n",
    "4. Anonymous Functions:  </br>\n",
    "It is a function that is defined without a name.\n",
    "example: (lambda a, b: a + b) (2, 3)\n",
    "\n",
    "5. Recursive Functions:  </br>\n",
    "It is a function that calls itself.\n",
    "example: def factorial(n): return 1 if n == 0 else n * factorial(n-1)"
   ]
  },
  {
   "cell_type": "code",
   "execution_count": 52,
   "id": "d6b26e8b",
   "metadata": {},
   "outputs": [],
   "source": [
    "# Initialize a list\n",
    "list = [3, 1, 2, 4, 5, 6, 7, 8, 9, 10]"
   ]
  },
  {
   "cell_type": "code",
   "execution_count": 53,
   "id": "457ee5c6",
   "metadata": {},
   "outputs": [
    {
     "name": "stdout",
     "output_type": "stream",
     "text": [
      "Built-in functions: 10\n"
     ]
    }
   ],
   "source": [
    "# 1. Built-in functions\n",
    "num = len(list)\n",
    "print('Built-in functions:', num) # Output: 10"
   ]
  },
  {
   "cell_type": "code",
   "execution_count": 54,
   "id": "381259ad",
   "metadata": {},
   "outputs": [
    {
     "name": "stdout",
     "output_type": "stream",
     "text": [
      "User-defined functions: 7\n"
     ]
    }
   ],
   "source": [
    "# 2. User-defined functions\n",
    "def add(a, b):\n",
    "    return a + b\n",
    "\n",
    "result = add(3, 4)\n",
    "print('User-defined functions:', result) # Output: 7"
   ]
  },
  {
   "cell_type": "code",
   "execution_count": 55,
   "id": "f828052b",
   "metadata": {},
   "outputs": [
    {
     "name": "stdout",
     "output_type": "stream",
     "text": [
      "Lambda functions: 10\n"
     ]
    }
   ],
   "source": [
    "# 3. Lambda functions\n",
    "result =  lambda x: x * 2\n",
    "print('Lambda functions:', result(5)) # Output: 10"
   ]
  },
  {
   "cell_type": "code",
   "execution_count": 56,
   "id": "5372e0e0",
   "metadata": {},
   "outputs": [
    {
     "name": "stdout",
     "output_type": "stream",
     "text": [
      "Ananonymous functions: 7\n"
     ]
    }
   ],
   "source": [
    "# 4. Ananonymous functions\n",
    "result =  (lambda x, y: x + y)(3, 4)\n",
    "print('Ananonymous functions:', result) # Output: 7"
   ]
  },
  {
   "cell_type": "code",
   "execution_count": 57,
   "id": "560b7bc6",
   "metadata": {},
   "outputs": [
    {
     "name": "stdout",
     "output_type": "stream",
     "text": [
      "Recursive functions: 120\n"
     ]
    }
   ],
   "source": [
    "# 5. Recursive functions\n",
    "def factorial(n):\n",
    "    if n == 0:\n",
    "        return 1\n",
    "    else:\n",
    "        return n * factorial(n-1)\n",
    "\n",
    "result = factorial(5)\n",
    "print('Recursive functions:', result) # Output: 120"
   ]
  },
  {
   "cell_type": "markdown",
   "id": "fd80ecb2",
   "metadata": {},
   "source": [
    "11. Modules in Python\n",
    "\n",
    "Modules are Python files that contain code that can be used in other Python files.\n",
    "\n",
    "Types of Modules: </br>\n",
    "- Standard Modules: </br>\n",
    "- Custom Modules: </br>\n",
    "- External Modules: </br>\n",
    "\n",
    "1. Standard Modules: </br>\n",
    "It is a module that is available in Python.\n",
    "example: import math\n",
    "\n",
    "2. Custom Modules: </br>\n",
    "It is a module that is created by the user.\n",
    "example: import my_module\n",
    "\n",
    "3. External Modules: </br>\n",
    "It is a module that is downloaded from the internet.\n",
    "example: import requests"
   ]
  },
  {
   "cell_type": "code",
   "execution_count": 58,
   "id": "fab2a8ca",
   "metadata": {},
   "outputs": [
    {
     "name": "stdout",
     "output_type": "stream",
     "text": [
      "Standard Modules: 3.141592653589793\n"
     ]
    }
   ],
   "source": [
    "# Standard Modules\n",
    "import math\n",
    "print('Standard Modules:', math.pi) # Output: 3.141592653589793"
   ]
  },
  {
   "cell_type": "code",
   "execution_count": null,
   "id": "3d23c148",
   "metadata": {},
   "outputs": [],
   "source": [
    "# Custom Modules"
   ]
  },
  {
   "cell_type": "code",
   "execution_count": 61,
   "id": "c574b071",
   "metadata": {},
   "outputs": [
    {
     "name": "stderr",
     "output_type": "stream",
     "text": [
      "\n",
      "[notice] A new release of pip is available: 24.3.1 -> 25.0.1\n",
      "[notice] To update, run: python.exe -m pip install --upgrade pip\n"
     ]
    },
    {
     "name": "stdout",
     "output_type": "stream",
     "text": [
      "Requirement already satisfied: numpy in c:\\users\\ahmed\\appdata\\local\\programs\\python\\python313\\lib\\site-packages (2.2.3)\n",
      "External Modules: 3.141592653589793\n"
     ]
    }
   ],
   "source": [
    "# External Modules\n",
    "!pip install numpy\n",
    "import numpy as np\n",
    "print('External Modules:', np.pi) # Output: 3.141592653589793"
   ]
  },
  {
   "cell_type": "markdown",
   "id": "bf9b69c1",
   "metadata": {},
   "source": [
    "12. Object & Class in Python\n",
    "\n",
    "Object: </br>\n",
    "An object is a data structure that represents a real-world entity or a concept. </br>\n",
    "example: a car, a person, a book, a computer, etc.\n",
    "\n",
    "Class: </br>\n",
    "A class is a blueprint for creating objects. </br>\n",
    "example: Car, Person, Book, Computer, etc.\n"
   ]
  },
  {
   "cell_type": "code",
   "execution_count": 62,
   "id": "c98d687b",
   "metadata": {},
   "outputs": [
    {
     "name": "stdout",
     "output_type": "stream",
     "text": [
      "Buddy 3\n",
      "Max says Woof!\n"
     ]
    }
   ],
   "source": [
    "# Define a class\n",
    "class Dog:\n",
    "    def __init__(self, name, age):\n",
    "        self.name = name  # Instance attribute\n",
    "        self.age = age\n",
    "\n",
    "    def bark(self):  # Instance method\n",
    "        return f\"{self.name} says Woof!\"\n",
    "\n",
    "# Create objects\n",
    "dog1 = Dog(\"Buddy\", 3)  # Object 1\n",
    "dog2 = Dog(\"Max\", 5)    # Object 2\n",
    "\n",
    "# Access attributes and methods\n",
    "print(dog1.name, dog1.age)  # Buddy 3\n",
    "print(dog2.bark())         # Max says Woof!"
   ]
  },
  {
   "cell_type": "markdown",
   "id": "7ac1ba13",
   "metadata": {},
   "source": [
    "13. Inheritance in Python\n",
    "\n",
    "Inheritance is a way of creating a new class from an existing class. It allows the new class (derived or child class) to inherit properties and behaviors (attributes and methods) of the existing class (base or parent class). This promotes code reusability and establishes an \"is-a\" relationship between the classes. Here are the common types of inheritance:\n",
    "\n",
    "1. Single Inheritance: A derived class inherits from only one base class.\n",
    "2. Multiple Inheritance: A derived class inherits from 1  more than one base class. This can lead to complexities like the \"diamond problem\" if the base classes have methods with the same name.   \n",
    "3. Multilevel Inheritance: A derived class inherits from a base class, and then another derived class inherits from that derived class, forming a chain of inheritance.\n",
    "4. Hybrid Inheritance: This is a combination of two or more types of inheritance. For example, it could be a combination of single and multiple inheritance, or single and multilevel inheritance. The structure forms a lattice-like diagram.\n",
    "5. Hierarchical Inheritance: This is a type of inheritance where multiple derived classes inherit from a single base class. This can be useful for creating a hierarchy of classes."
   ]
  },
  {
   "cell_type": "code",
   "execution_count": 63,
   "id": "2bf3665f",
   "metadata": {},
   "outputs": [
    {
     "name": "stdout",
     "output_type": "stream",
     "text": [
      "Engine started.\n",
      "Car is driving.\n"
     ]
    }
   ],
   "source": [
    "# 1. Single inheritance\n",
    "\n",
    "# Base class\n",
    "class Vehicle:\n",
    "    def start_engine(self):\n",
    "        print(\"Engine started.\")\n",
    "\n",
    "# Derived class inheriting from ONE base class (Vehicle)\n",
    "class Car(Vehicle):\n",
    "    def drive(self):\n",
    "        print(\"Car is driving.\")\n",
    "\n",
    "# --- Demonstration ---\n",
    "my_car = Car()\n",
    "my_car.start_engine() # Inherited method\n",
    "my_car.drive()      # Own method"
   ]
  },
  {
   "cell_type": "code",
   "execution_count": 64,
   "id": "da261c2c",
   "metadata": {},
   "outputs": [
    {
     "name": "stdout",
     "output_type": "stream",
     "text": [
      "Flying...\n",
      "Swimming...\n",
      "Quack!\n"
     ]
    }
   ],
   "source": [
    "# 2. multiple inheritance\n",
    "\n",
    "# First base class\n",
    "class Flyer:\n",
    "    def fly(self):\n",
    "        print(\"Flying...\")\n",
    "\n",
    "# Second base class\n",
    "class Swimmer:\n",
    "    def swim(self):\n",
    "        print(\"Swimming...\")\n",
    "\n",
    "# Derived class inheriting from MULTIPLE base classes (Flyer, Swimmer)\n",
    "class Duck(Flyer, Swimmer):\n",
    "    def quack(self):\n",
    "        print(\"Quack!\")\n",
    "\n",
    "# --- Demonstration ---\n",
    "donald = Duck()\n",
    "donald.fly()    # Inherited from Flyer\n",
    "donald.swim()   # Inherited from Swimmer\n",
    "donald.quack()  # Own method"
   ]
  },
  {
   "cell_type": "code",
   "execution_count": 65,
   "id": "d50e8e7e",
   "metadata": {},
   "outputs": [
    {
     "name": "stdout",
     "output_type": "stream",
     "text": [
      "Breathing...\n",
      "Eating...\n",
      "Woof!\n"
     ]
    }
   ],
   "source": [
    "# 3. Multiple inheritance \n",
    "\n",
    "# Grandparent class\n",
    "class LivingThing:\n",
    "    def breathe(self):\n",
    "        print(\"Breathing...\")\n",
    "\n",
    "# Parent class inheriting from LivingThing\n",
    "class Animal(LivingThing):\n",
    "    def eat(self):\n",
    "        print(\"Eating...\")\n",
    "\n",
    "# Child class inheriting from Animal (which inherited from LivingThing)\n",
    "# A -> B -> C structure (LivingThing -> Animal -> Dog)\n",
    "class Dog(Animal):\n",
    "    def bark(self):\n",
    "        print(\"Woof!\")\n",
    "\n",
    "# --- Demonstration ---\n",
    "buddy = Dog()\n",
    "buddy.breathe() # Inherited from LivingThing (Grandparent)\n",
    "buddy.eat()     # Inherited from Animal (Parent)\n",
    "buddy.bark()    # Own method"
   ]
  },
  {
   "cell_type": "code",
   "execution_count": 66,
   "id": "d1ee72ed",
   "metadata": {},
   "outputs": [
    {
     "name": "stdout",
     "output_type": "stream",
     "text": [
      "This is a shape.\n",
      "Drawing a circle.\n",
      "This is a shape.\n",
      "Drawing a square.\n"
     ]
    }
   ],
   "source": [
    "# 4. Hierarchical inheritance\n",
    "\n",
    "# Base class\n",
    "class Shape:\n",
    "    def info(self):\n",
    "        print(\"This is a shape.\")\n",
    "\n",
    "# First derived class inheriting from Shape\n",
    "class Circle(Shape):\n",
    "    def draw_circle(self):\n",
    "        print(\"Drawing a circle.\")\n",
    "\n",
    "# Second derived class inheriting from the SAME base class (Shape)\n",
    "class Square(Shape):\n",
    "    def draw_square(self):\n",
    "        print(\"Drawing a square.\")\n",
    "\n",
    "# --- Demonstration ---\n",
    "c = Circle()\n",
    "s = Square()\n",
    "\n",
    "c.info() # Inherited from Shape\n",
    "c.draw_circle()\n",
    "\n",
    "s.info() # Inherited from Shape\n",
    "s.draw_square()"
   ]
  },
  {
   "cell_type": "code",
   "execution_count": 67,
   "id": "2d016625",
   "metadata": {},
   "outputs": [
    {
     "name": "stdout",
     "output_type": "stream",
     "text": [
      "Method A\n",
      "Method B\n",
      "Method C\n",
      "Method D\n"
     ]
    }
   ],
   "source": [
    "# 5. hybrid inheritance\n",
    "\n",
    "# Base class\n",
    "class A:\n",
    "    def method_A(self): print(\"Method A\")\n",
    "\n",
    "# Derived from A (Single)\n",
    "class B(A):\n",
    "    def method_B(self): print(\"Method B\")\n",
    "\n",
    "# Another base class\n",
    "class C:\n",
    "    def method_C(self): print(\"Method C\")\n",
    "\n",
    "# Derived from B and C (Multiple, involves Multilevel A->B)\n",
    "# This combination makes it Hybrid\n",
    "class D(B, C):\n",
    "    def method_D(self): print(\"Method D\")\n",
    "\n",
    "# --- Demonstration ---\n",
    "obj_d = D()\n",
    "obj_d.method_A() # Inherited via B (Multilevel)\n",
    "obj_d.method_B() # Inherited from B\n",
    "obj_d.method_C() # Inherited from C (Multiple)\n",
    "obj_d.method_D() # Own method"
   ]
  },
  {
   "cell_type": "markdown",
   "id": "b04c9d14",
   "metadata": {},
   "source": [
    "14. *args and **kwargs in Python\n",
    "\n",
    "*args and **kwargs are special syntax in Python that allows you to pass a variable number of arguments to a function. These arguments are collected into a tuple or dictionary, respectively.\n",
    "\n",
    "1. *args: *args is a special syntax that allows you to pass a variable number of arguments to a function. It is used to collect positional arguments into a tuple.\n",
    "- syntax: def function_name(*args):\n",
    "\n",
    "2. **kwargs: **kwargs is a special syntax that allows you to pass a variable number of keyword arguments to a function. It is used to collect keyword arguments into a dictionary.\n",
    "- syntax: def function_name(**kwargs):"
   ]
  },
  {
   "cell_type": "code",
   "execution_count": 68,
   "id": "0666efe8",
   "metadata": {},
   "outputs": [
    {
     "name": "stdout",
     "output_type": "stream",
     "text": [
      "6\n",
      "22\n",
      "name: Alice\n",
      "age: 25\n",
      "args: (1, 2)\n",
      "kwargs: {'name': 'Bob', 'city': 'NY'}\n"
     ]
    }
   ],
   "source": [
    "# *args example\n",
    "def sum_nums(*args):\n",
    "    return sum(args)\n",
    "print(sum_nums(1, 2, 3))  # 6\n",
    "print(sum_nums(4, 5, 6, 7))  # 22\n",
    "\n",
    "# **kwargs example\n",
    "def print_info(**kwargs):\n",
    "    for key, value in kwargs.items():\n",
    "        print(f\"{key}: {value}\")\n",
    "print_info(name=\"Alice\", age=25)  # name: Alice, age: 25\n",
    "\n",
    "# Combining *args and **kwargs\n",
    "def combined(*args, **kwargs):\n",
    "    print(\"args:\", args)\n",
    "    print(\"kwargs:\", kwargs)\n",
    "combined(1, 2, name=\"Bob\", city=\"NY\")  # args: (1, 2), kwargs: {'name': 'Bob', 'city': 'NY'}"
   ]
  }
 ],
 "metadata": {
  "kernelspec": {
   "display_name": "Python 3",
   "language": "python",
   "name": "python3"
  },
  "language_info": {
   "codemirror_mode": {
    "name": "ipython",
    "version": 3
   },
   "file_extension": ".py",
   "mimetype": "text/x-python",
   "name": "python",
   "nbconvert_exporter": "python",
   "pygments_lexer": "ipython3",
   "version": "3.13.1"
  }
 },
 "nbformat": 4,
 "nbformat_minor": 5
}
